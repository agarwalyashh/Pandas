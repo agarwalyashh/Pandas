{
 "cells": [
  {
   "cell_type": "markdown",
   "id": "998b7d7f",
   "metadata": {},
   "source": [
    "# Working with Pandas Series"
   ]
  },
  {
   "cell_type": "markdown",
   "id": "03af43ee",
   "metadata": {},
   "source": [
    "Pandas is an open source python library for data analysis and manipulation"
   ]
  },
  {
   "cell_type": "code",
   "execution_count": 2,
   "id": "105d4cbb",
   "metadata": {
    "ExecuteTime": {
     "end_time": "2024-04-30T16:04:24.669997Z",
     "start_time": "2024-04-30T16:04:22.852027Z"
    },
    "scrolled": true
   },
   "outputs": [],
   "source": [
    "import pandas as pd\n",
    "import numpy as np"
   ]
  },
  {
   "cell_type": "markdown",
   "id": "f373dbe8",
   "metadata": {},
   "source": [
    "## Series"
   ]
  },
  {
   "cell_type": "markdown",
   "id": "03a97c64",
   "metadata": {},
   "source": [
    "Like a 1-D array, a column of a dataframe"
   ]
  },
  {
   "cell_type": "markdown",
   "id": "9850c9c7",
   "metadata": {},
   "source": [
    "### Series from lists"
   ]
  },
  {
   "cell_type": "code",
   "execution_count": 3,
   "id": "38bdad2b",
   "metadata": {
    "ExecuteTime": {
     "end_time": "2024-04-30T16:05:24.653140Z",
     "start_time": "2024-04-30T16:05:24.610740Z"
    },
    "scrolled": true
   },
   "outputs": [
    {
     "data": {
      "text/plain": [
       "0          India\n",
       "1      Australia\n",
       "2    New Zealand\n",
       "dtype: object"
      ]
     },
     "execution_count": 3,
     "metadata": {},
     "output_type": "execute_result"
    }
   ],
   "source": [
    "countries=['India','Australia','New Zealand']\n",
    "pd.Series(countries)"
   ]
  },
  {
   "cell_type": "markdown",
   "id": "4bf84c30",
   "metadata": {},
   "source": [
    "The first column denotes the index of the column, dtype='object'(Strings)- can be anything\n",
    "\n",
    "We can specify our own index column as shown below"
   ]
  },
  {
   "cell_type": "code",
   "execution_count": 5,
   "id": "1e0af0f9",
   "metadata": {
    "ExecuteTime": {
     "end_time": "2024-04-30T16:08:17.772935Z",
     "start_time": "2024-04-30T16:08:17.751009Z"
    },
    "scrolled": true
   },
   "outputs": [
    {
     "data": {
      "text/plain": [
       "Physics    20\n",
       "Math       40\n",
       "English    80\n",
       "Python     90\n",
       "dtype: int64"
      ]
     },
     "execution_count": 5,
     "metadata": {},
     "output_type": "execute_result"
    }
   ],
   "source": [
    "marks=[20,40,80,90]\n",
    "subjects=['Physics','Math','English','Python']\n",
    "\n",
    "pd.Series(marks,index=subjects)"
   ]
  },
  {
   "cell_type": "code",
   "execution_count": 6,
   "id": "91a474ac",
   "metadata": {
    "ExecuteTime": {
     "end_time": "2024-04-30T16:09:52.889791Z",
     "start_time": "2024-04-30T16:09:52.875230Z"
    },
    "scrolled": false
   },
   "outputs": [
    {
     "data": {
      "text/plain": [
       "Physics    20\n",
       "Math       40\n",
       "English    80\n",
       "Python     90\n",
       "Name: Subject Wise Marks, dtype: int64"
      ]
     },
     "execution_count": 6,
     "metadata": {},
     "output_type": "execute_result"
    }
   ],
   "source": [
    "marks=[20,40,80,90]\n",
    "subjects=['Physics','Math','English','Python']\n",
    "\n",
    "pd.Series(marks,index=subjects,name='Subject Wise Marks')"
   ]
  },
  {
   "cell_type": "markdown",
   "id": "0c76478a",
   "metadata": {},
   "source": [
    "### Series from dictionaries"
   ]
  },
  {
   "cell_type": "code",
   "execution_count": 9,
   "id": "9b965e9f",
   "metadata": {
    "ExecuteTime": {
     "end_time": "2024-04-30T16:12:06.748325Z",
     "start_time": "2024-04-30T16:12:06.734612Z"
    },
    "scrolled": true
   },
   "outputs": [
    {
     "data": {
      "text/plain": [
       "physics    20\n",
       "math       40\n",
       "english    80\n",
       "python     90\n",
       "Name: Subject Wise Marks, dtype: int64"
      ]
     },
     "execution_count": 9,
     "metadata": {},
     "output_type": "execute_result"
    }
   ],
   "source": [
    "marks={\n",
    "    'physics':20,\n",
    "    'math':40,\n",
    "    'english':80,\n",
    "    'python':90\n",
    "}\n",
    "pd.Series(marks,name='Subject Wise Marks')"
   ]
  },
  {
   "cell_type": "markdown",
   "id": "f4fde784",
   "metadata": {},
   "source": [
    "### Attributes"
   ]
  },
  {
   "cell_type": "markdown",
   "id": "a01c0db6",
   "metadata": {},
   "source": [
    "Since Series is a class, we can make its object and access its attributes"
   ]
  },
  {
   "cell_type": "code",
   "execution_count": 13,
   "id": "5990acaa",
   "metadata": {
    "ExecuteTime": {
     "end_time": "2024-04-30T16:16:28.279901Z",
     "start_time": "2024-04-30T16:16:28.272866Z"
    },
    "scrolled": true
   },
   "outputs": [],
   "source": [
    "marks=[20,40,80,90]\n",
    "subjects=['Physics','Math','English','Python']\n",
    "\n",
    "subject_marks=pd.Series(marks,index=subjects,name='Subject Wise Marks')"
   ]
  },
  {
   "cell_type": "code",
   "execution_count": 17,
   "id": "a329424d",
   "metadata": {
    "ExecuteTime": {
     "end_time": "2024-04-30T16:18:49.794700Z",
     "start_time": "2024-04-30T16:18:49.786097Z"
    },
    "scrolled": true
   },
   "outputs": [
    {
     "name": "stdout",
     "output_type": "stream",
     "text": [
      "Size of Series-- 4\n",
      "Data Type of Series-- int64\n",
      "Name of Series-- Subject Wise Marks\n",
      "Index of Series-- Index(['Physics', 'Math', 'English', 'Python'], dtype='object')\n",
      "Values of Series-- [20 40 80 90]\n"
     ]
    }
   ],
   "source": [
    "print('Size of Series--',subject_marks.size)\n",
    "print('Data Type of Series--',subject_marks.dtype)\n",
    "print('Name of Series--',subject_marks.name)\n",
    "print('Index of Series--',subject_marks.index)\n",
    "print('Values of Series--',subject_marks.values)"
   ]
  },
  {
   "cell_type": "markdown",
   "id": "71db4aa7",
   "metadata": {},
   "source": [
    "### Reading CSV Files"
   ]
  },
  {
   "cell_type": "code",
   "execution_count": 18,
   "id": "61fc2878",
   "metadata": {
    "ExecuteTime": {
     "end_time": "2024-04-30T16:23:17.058411Z",
     "start_time": "2024-04-30T16:23:16.952435Z"
    },
    "scrolled": true
   },
   "outputs": [
    {
     "data": {
      "text/html": [
       "<div>\n",
       "<style scoped>\n",
       "    .dataframe tbody tr th:only-of-type {\n",
       "        vertical-align: middle;\n",
       "    }\n",
       "\n",
       "    .dataframe tbody tr th {\n",
       "        vertical-align: top;\n",
       "    }\n",
       "\n",
       "    .dataframe thead th {\n",
       "        text-align: right;\n",
       "    }\n",
       "</style>\n",
       "<table border=\"1\" class=\"dataframe\">\n",
       "  <thead>\n",
       "    <tr style=\"text-align: right;\">\n",
       "      <th></th>\n",
       "      <th>movie</th>\n",
       "      <th>lead</th>\n",
       "    </tr>\n",
       "  </thead>\n",
       "  <tbody>\n",
       "    <tr>\n",
       "      <th>0</th>\n",
       "      <td>Uri: The Surgical Strike</td>\n",
       "      <td>Vicky Kaushal</td>\n",
       "    </tr>\n",
       "    <tr>\n",
       "      <th>1</th>\n",
       "      <td>Battalion 609</td>\n",
       "      <td>Vicky Ahuja</td>\n",
       "    </tr>\n",
       "    <tr>\n",
       "      <th>2</th>\n",
       "      <td>The Accidental Prime Minister (film)</td>\n",
       "      <td>Anupam Kher</td>\n",
       "    </tr>\n",
       "    <tr>\n",
       "      <th>3</th>\n",
       "      <td>Why Cheat India</td>\n",
       "      <td>Emraan Hashmi</td>\n",
       "    </tr>\n",
       "    <tr>\n",
       "      <th>4</th>\n",
       "      <td>Evening Shadows</td>\n",
       "      <td>Mona Ambegaonkar</td>\n",
       "    </tr>\n",
       "    <tr>\n",
       "      <th>...</th>\n",
       "      <td>...</td>\n",
       "      <td>...</td>\n",
       "    </tr>\n",
       "    <tr>\n",
       "      <th>1495</th>\n",
       "      <td>Hum Tumhare Hain Sanam</td>\n",
       "      <td>Shah Rukh Khan</td>\n",
       "    </tr>\n",
       "    <tr>\n",
       "      <th>1496</th>\n",
       "      <td>Aankhen (2002 film)</td>\n",
       "      <td>Amitabh Bachchan</td>\n",
       "    </tr>\n",
       "    <tr>\n",
       "      <th>1497</th>\n",
       "      <td>Saathiya (film)</td>\n",
       "      <td>Vivek Oberoi</td>\n",
       "    </tr>\n",
       "    <tr>\n",
       "      <th>1498</th>\n",
       "      <td>Company (film)</td>\n",
       "      <td>Ajay Devgn</td>\n",
       "    </tr>\n",
       "    <tr>\n",
       "      <th>1499</th>\n",
       "      <td>Awara Paagal Deewana</td>\n",
       "      <td>Akshay Kumar</td>\n",
       "    </tr>\n",
       "  </tbody>\n",
       "</table>\n",
       "<p>1500 rows × 2 columns</p>\n",
       "</div>"
      ],
      "text/plain": [
       "                                     movie              lead\n",
       "0                 Uri: The Surgical Strike     Vicky Kaushal\n",
       "1                            Battalion 609       Vicky Ahuja\n",
       "2     The Accidental Prime Minister (film)       Anupam Kher\n",
       "3                          Why Cheat India     Emraan Hashmi\n",
       "4                          Evening Shadows  Mona Ambegaonkar\n",
       "...                                    ...               ...\n",
       "1495                Hum Tumhare Hain Sanam    Shah Rukh Khan\n",
       "1496                   Aankhen (2002 film)  Amitabh Bachchan\n",
       "1497                       Saathiya (film)      Vivek Oberoi\n",
       "1498                        Company (film)        Ajay Devgn\n",
       "1499                  Awara Paagal Deewana      Akshay Kumar\n",
       "\n",
       "[1500 rows x 2 columns]"
      ]
     },
     "execution_count": 18,
     "metadata": {},
     "output_type": "execute_result"
    }
   ],
   "source": [
    "bollywood=pd.read_csv('bollywood.csv') # put file path inside quotes\n",
    "bollywood"
   ]
  },
  {
   "cell_type": "markdown",
   "id": "685aae46",
   "metadata": {},
   "source": [
    "This is a Dataframe, to convert it into a Series, we do the following"
   ]
  },
  {
   "cell_type": "code",
   "execution_count": 23,
   "id": "6576a671",
   "metadata": {
    "ExecuteTime": {
     "end_time": "2024-04-30T16:33:27.180383Z",
     "start_time": "2024-04-30T16:33:27.157056Z"
    },
    "scrolled": true
   },
   "outputs": [
    {
     "data": {
      "text/plain": [
       "movie\n",
       "Uri: The Surgical Strike                   Vicky Kaushal\n",
       "Battalion 609                                Vicky Ahuja\n",
       "The Accidental Prime Minister (film)         Anupam Kher\n",
       "Why Cheat India                            Emraan Hashmi\n",
       "Evening Shadows                         Mona Ambegaonkar\n",
       "                                              ...       \n",
       "Hum Tumhare Hain Sanam                    Shah Rukh Khan\n",
       "Aankhen (2002 film)                     Amitabh Bachchan\n",
       "Saathiya (film)                             Vivek Oberoi\n",
       "Company (film)                                Ajay Devgn\n",
       "Awara Paagal Deewana                        Akshay Kumar\n",
       "Name: lead, Length: 1500, dtype: object"
      ]
     },
     "execution_count": 23,
     "metadata": {},
     "output_type": "execute_result"
    }
   ],
   "source": [
    "bollywood=pd.read_csv('bollywood.csv',index_col='movie')\n",
    "bollywood_series=bollywood.squeeze()\n",
    "bollywood_series"
   ]
  },
  {
   "cell_type": "code",
   "execution_count": 27,
   "id": "ef025b09",
   "metadata": {
    "ExecuteTime": {
     "end_time": "2024-04-30T16:36:01.561418Z",
     "start_time": "2024-04-30T16:36:01.540474Z"
    },
    "scrolled": false
   },
   "outputs": [
    {
     "data": {
      "text/plain": [
       "movie\n",
       "Uri: The Surgical Strike                   Vicky Kaushal\n",
       "Battalion 609                                Vicky Ahuja\n",
       "The Accidental Prime Minister (film)         Anupam Kher\n",
       "Why Cheat India                            Emraan Hashmi\n",
       "Evening Shadows                         Mona Ambegaonkar\n",
       "Name: lead, dtype: object"
      ]
     },
     "execution_count": 27,
     "metadata": {},
     "output_type": "execute_result"
    }
   ],
   "source": [
    "bollywood_series.head() #by default shows first 5 rows. \n",
    "#Specify an integer inside paranthesis to see that many number of rows. Tail does the same thing but for the bottom rows"
   ]
  },
  {
   "cell_type": "code",
   "execution_count": 28,
   "id": "9d262ce1",
   "metadata": {
    "ExecuteTime": {
     "end_time": "2024-04-30T16:36:24.114237Z",
     "start_time": "2024-04-30T16:36:24.093579Z"
    },
    "scrolled": true
   },
   "outputs": [
    {
     "data": {
      "text/plain": [
       "movie\n",
       "Dum Laga Ke Haisha                 Ayushmann Khurrana\n",
       "Talaash: The Answer Lies Within            Aamir Khan\n",
       "Billu                                     Irrfan Khan\n",
       "Krishna Cottage                           Sohail Khan\n",
       "Munna Bhai M.B.B.S.                       Sanjay Dutt\n",
       "Name: lead, dtype: object"
      ]
     },
     "execution_count": 28,
     "metadata": {},
     "output_type": "execute_result"
    }
   ],
   "source": [
    "bollywood_series.sample(5) #randomly out of the series"
   ]
  },
  {
   "cell_type": "markdown",
   "id": "e66bc63d",
   "metadata": {},
   "source": [
    "### Common Functions"
   ]
  },
  {
   "cell_type": "code",
   "execution_count": 31,
   "id": "ee695a4e",
   "metadata": {
    "ExecuteTime": {
     "end_time": "2024-04-30T16:37:49.062991Z",
     "start_time": "2024-04-30T16:37:49.040055Z"
    },
    "scrolled": true
   },
   "outputs": [
    {
     "data": {
      "text/plain": [
       "lead\n",
       "Akshay Kumar        48\n",
       "Amitabh Bachchan    45\n",
       "Ajay Devgn          38\n",
       "Salman Khan         31\n",
       "Sanjay Dutt         26\n",
       "                    ..\n",
       "Diganth              1\n",
       "Parveen Kaur         1\n",
       "Seema Azmi           1\n",
       "Akanksha Puri        1\n",
       "Edwin Fernandes      1\n",
       "Name: count, Length: 566, dtype: int64"
      ]
     },
     "execution_count": 31,
     "metadata": {},
     "output_type": "execute_result"
    }
   ],
   "source": [
    "bollywood_series.value_counts()"
   ]
  },
  {
   "cell_type": "code",
   "execution_count": 33,
   "id": "b0c72c2d",
   "metadata": {
    "ExecuteTime": {
     "end_time": "2024-04-30T16:46:28.173737Z",
     "start_time": "2024-04-30T16:46:28.150833Z"
    },
    "scrolled": true
   },
   "outputs": [
    {
     "data": {
      "text/plain": [
       "movie\n",
       "Qaidi Band                            Aadar Jain\n",
       "Roar: Tigers of the Sundarbans      Aadil Chahal\n",
       "Lipstick Under My Burkha            Aahana Kumra\n",
       "Raat Gayi Baat Gayi?                Aamir Bashir\n",
       "Talaash: The Answer Lies Within       Aamir Khan\n",
       "                                        ...     \n",
       "Dil Toh Deewana Hai                  Zeenat Aman\n",
       "Sallu Ki Shaadi                      Zeenat Aman\n",
       "Strings of Passion                   Zeenat Aman\n",
       "Dunno Y... Na Jaane Kyon             Zeenat Aman\n",
       "Taj Mahal: An Eternal Love Story     Zulfi Sayed\n",
       "Name: lead, Length: 1500, dtype: object"
      ]
     },
     "execution_count": 33,
     "metadata": {},
     "output_type": "execute_result"
    }
   ],
   "source": [
    "bollywood_series.sort_values() # sorts in ascending order, if you set ascending=False-descending order"
   ]
  },
  {
   "cell_type": "code",
   "execution_count": 44,
   "id": "01013ffe",
   "metadata": {
    "ExecuteTime": {
     "end_time": "2024-04-30T16:48:00.167482Z",
     "start_time": "2024-04-30T16:48:00.154318Z"
    },
    "scrolled": true
   },
   "outputs": [
    {
     "data": {
      "text/plain": [
       "lead\n",
       "Zeenat Aman    4\n",
       "Zayed Khan     3\n",
       "Zulfi Sayed    1\n",
       "Zareen Khan    1\n",
       "Zara Sheikh    1\n",
       "Name: count, dtype: int64"
      ]
     },
     "execution_count": 44,
     "metadata": {},
     "output_type": "execute_result"
    }
   ],
   "source": [
    "bollywood_series.sort_values(ascending=False).head(10).value_counts()"
   ]
  },
  {
   "cell_type": "markdown",
   "id": "aad1ad47",
   "metadata": {},
   "source": [
    "If we want to sort in terms of index, we use sort_index()"
   ]
  },
  {
   "cell_type": "markdown",
   "id": "49a80ba8",
   "metadata": {},
   "source": [
    "* For any permanent changes, we need to specify an attribute inplace and set its value to True, we will see that later "
   ]
  },
  {
   "cell_type": "code",
   "execution_count": 48,
   "id": "ae1f130d",
   "metadata": {
    "ExecuteTime": {
     "end_time": "2024-04-30T16:55:40.232482Z",
     "start_time": "2024-04-30T16:55:40.219008Z"
    },
    "scrolled": true
   },
   "outputs": [
    {
     "data": {
      "text/plain": [
       "count             1500\n",
       "unique             566\n",
       "top       Akshay Kumar\n",
       "freq                48\n",
       "Name: lead, dtype: object"
      ]
     },
     "execution_count": 48,
     "metadata": {},
     "output_type": "execute_result"
    }
   ],
   "source": [
    "bollywood_series.describe() #Gives a descriptive stats about the series"
   ]
  },
  {
   "cell_type": "markdown",
   "id": "31c77182",
   "metadata": {},
   "source": [
    "### Indexing"
   ]
  },
  {
   "cell_type": "code",
   "execution_count": 49,
   "id": "2d8587d3",
   "metadata": {
    "ExecuteTime": {
     "end_time": "2024-04-30T16:58:55.145253Z",
     "start_time": "2024-04-30T16:58:55.134760Z"
    },
    "scrolled": true
   },
   "outputs": [
    {
     "data": {
      "text/plain": [
       "0     1\n",
       "1     2\n",
       "2     3\n",
       "3     4\n",
       "4     5\n",
       "5     6\n",
       "6     7\n",
       "7     8\n",
       "8     9\n",
       "9    10\n",
       "dtype: int64"
      ]
     },
     "execution_count": 49,
     "metadata": {},
     "output_type": "execute_result"
    }
   ],
   "source": [
    "numbers = [1,2,3,4,5,6,7,8,9,10]\n",
    "#Series Indexing work similar to basic python indexing\n",
    "series=pd.Series(numbers)\n",
    "series"
   ]
  },
  {
   "cell_type": "code",
   "execution_count": 59,
   "id": "43d2475c",
   "metadata": {
    "ExecuteTime": {
     "end_time": "2024-04-30T17:02:53.391134Z",
     "start_time": "2024-04-30T17:02:53.380866Z"
    },
    "scrolled": true
   },
   "outputs": [
    {
     "data": {
      "text/plain": [
       "10"
      ]
     },
     "execution_count": 59,
     "metadata": {},
     "output_type": "execute_result"
    }
   ],
   "source": [
    "numbers[-1]"
   ]
  },
  {
   "cell_type": "code",
   "execution_count": 50,
   "id": "cc3c0901",
   "metadata": {
    "ExecuteTime": {
     "end_time": "2024-04-30T16:59:03.622420Z",
     "start_time": "2024-04-30T16:59:03.611266Z"
    },
    "scrolled": true
   },
   "outputs": [
    {
     "data": {
      "text/plain": [
       "1    2\n",
       "2    3\n",
       "3    4\n",
       "dtype: int64"
      ]
     },
     "execution_count": 50,
     "metadata": {},
     "output_type": "execute_result"
    }
   ],
   "source": [
    "series[1:4]"
   ]
  },
  {
   "cell_type": "code",
   "execution_count": 51,
   "id": "b4ec7f35",
   "metadata": {
    "ExecuteTime": {
     "end_time": "2024-04-30T16:59:19.576170Z",
     "start_time": "2024-04-30T16:59:19.564195Z"
    },
    "scrolled": true
   },
   "outputs": [
    {
     "data": {
      "text/plain": [
       "10"
      ]
     },
     "execution_count": 51,
     "metadata": {},
     "output_type": "execute_result"
    }
   ],
   "source": [
    "series[9]"
   ]
  },
  {
   "cell_type": "code",
   "execution_count": 53,
   "id": "40015684",
   "metadata": {
    "ExecuteTime": {
     "end_time": "2024-04-30T17:00:11.460679Z",
     "start_time": "2024-04-30T17:00:11.452261Z"
    },
    "scrolled": true
   },
   "outputs": [
    {
     "data": {
      "text/plain": [
       "'Vicky Kaushal'"
      ]
     },
     "execution_count": 53,
     "metadata": {},
     "output_type": "execute_result"
    }
   ],
   "source": [
    "bollywood_series[0]"
   ]
  },
  {
   "cell_type": "code",
   "execution_count": 58,
   "id": "564bb894",
   "metadata": {
    "ExecuteTime": {
     "end_time": "2024-04-30T17:02:18.592474Z",
     "start_time": "2024-04-30T17:02:18.583022Z"
    },
    "scrolled": true
   },
   "outputs": [
    {
     "data": {
      "text/plain": [
       "'Vicky Kaushal'"
      ]
     },
     "execution_count": 58,
     "metadata": {},
     "output_type": "execute_result"
    }
   ],
   "source": [
    " bollywood_series['Uri: The Surgical Strike'] # By default, 0 based indexing is also assigned besides custom indexing"
   ]
  },
  {
   "cell_type": "markdown",
   "id": "2652171c",
   "metadata": {},
   "source": [
    "### Using Python Functions"
   ]
  },
  {
   "cell_type": "code",
   "execution_count": 64,
   "id": "2bdf5287",
   "metadata": {
    "ExecuteTime": {
     "end_time": "2024-04-30T17:11:15.625486Z",
     "start_time": "2024-04-30T17:11:15.615837Z"
    },
    "scrolled": true
   },
   "outputs": [
    {
     "data": {
      "text/plain": [
       "1500"
      ]
     },
     "execution_count": 64,
     "metadata": {},
     "output_type": "execute_result"
    }
   ],
   "source": [
    "len(bollywood_series) #total number of items/rows"
   ]
  },
  {
   "cell_type": "code",
   "execution_count": 65,
   "id": "d46055d0",
   "metadata": {
    "ExecuteTime": {
     "end_time": "2024-04-30T17:11:34.853225Z",
     "start_time": "2024-04-30T17:11:34.844497Z"
    },
    "scrolled": true
   },
   "outputs": [
    {
     "data": {
      "text/plain": [
       "pandas.core.series.Series"
      ]
     },
     "execution_count": 65,
     "metadata": {},
     "output_type": "execute_result"
    }
   ],
   "source": [
    "type(bollywood_series)"
   ]
  },
  {
   "cell_type": "code",
   "execution_count": 66,
   "id": "0887ec74",
   "metadata": {
    "ExecuteTime": {
     "end_time": "2024-04-30T17:12:15.093639Z",
     "start_time": "2024-04-30T17:12:15.077420Z"
    },
    "scrolled": true
   },
   "outputs": [
    {
     "data": {
      "text/plain": [
       "lead\n",
       "Akshay Kumar        48.0\n",
       "Amitabh Bachchan    45.0\n",
       "Ajay Devgn          38.0\n",
       "Salman Khan         31.0\n",
       "Sanjay Dutt         26.0\n",
       "                    ... \n",
       "Diganth              1.0\n",
       "Parveen Kaur         1.0\n",
       "Seema Azmi           1.0\n",
       "Akanksha Puri        1.0\n",
       "Edwin Fernandes      1.0\n",
       "Name: count, Length: 566, dtype: float64"
      ]
     },
     "execution_count": 66,
     "metadata": {},
     "output_type": "execute_result"
    }
   ],
   "source": [
    "bollywood_series.value_counts().astype('float')"
   ]
  },
  {
   "cell_type": "code",
   "execution_count": 67,
   "id": "dbb68fad",
   "metadata": {
    "ExecuteTime": {
     "end_time": "2024-04-30T17:12:32.571219Z",
     "start_time": "2024-04-30T17:12:32.541626Z"
    },
    "collapsed": true,
    "scrolled": false
   },
   "outputs": [
    {
     "data": {
      "text/plain": [
       "['Vicky Kaushal',\n",
       " 'Vicky Ahuja',\n",
       " 'Anupam Kher',\n",
       " 'Emraan Hashmi',\n",
       " 'Mona Ambegaonkar',\n",
       " 'Geetika Vidya Ohlyan',\n",
       " 'Arshad Warsi',\n",
       " 'Radhika Apte',\n",
       " 'Kangana Ranaut',\n",
       " 'Nawazuddin Siddiqui',\n",
       " 'Ali Asgar',\n",
       " 'Ranveer Singh',\n",
       " 'Prit Kamani',\n",
       " 'Ajay Devgn',\n",
       " 'Sushant Singh Rajput',\n",
       " 'Amitabh Bachchan',\n",
       " 'Abhimanyu Dasani',\n",
       " 'Talha Arshad Reshi',\n",
       " 'Nawazuddin Siddiqui',\n",
       " 'Garima Agarwal',\n",
       " 'Rasika Agashe',\n",
       " 'Barun Sobti',\n",
       " 'Akshay Kumar',\n",
       " 'Zaheer Iqbal',\n",
       " 'Vidyut Jammwal',\n",
       " 'Deepika Amin',\n",
       " 'Manav Kaul',\n",
       " 'Naseeruddin Shah',\n",
       " 'Varun Dhawan',\n",
       " 'Shreyas Talpade',\n",
       " 'Tiger Shroff',\n",
       " 'Boman Irani',\n",
       " 'Ajay Devgn',\n",
       " 'Arjun Kapoor',\n",
       " 'Gavie Chahal',\n",
       " 'Prabhu Deva',\n",
       " 'Shahid Kapoor',\n",
       " 'Ayushmann Khurrana',\n",
       " 'Anupam Kher',\n",
       " 'Karanvir Bohra',\n",
       " 'Hrithik Roshan',\n",
       " 'Jimmy Sheirgill',\n",
       " 'John Abraham',\n",
       " 'Rishi Kapoor',\n",
       " 'Kangana Ranaut',\n",
       " 'Natalia Janoszek',\n",
       " 'Diljit Dosanjh',\n",
       " 'Sidharth Malhotra',\n",
       " 'Rajeev Khandelwal',\n",
       " 'Zaira Wasim',\n",
       " 'Akshay Kumar',\n",
       " 'Jacqueline Fernandez',\n",
       " 'Ayushmann Khurrana',\n",
       " 'Akshaye Khanna',\n",
       " 'Sonam Kapoor',\n",
       " 'Karan Deol',\n",
       " 'Sanjay Dutt',\n",
       " 'Bhavesh Kumar',\n",
       " 'Sanaya Irani',\n",
       " 'Ayushmann Khurrana',\n",
       " 'Siddhanth Kapoor',\n",
       " 'Akshay Kumar',\n",
       " 'Taapsee Pannu',\n",
       " 'Rajkummar Rao',\n",
       " 'Sunny Singh Nijjar',\n",
       " 'Neil Nitin Mukesh',\n",
       " 'Suraj Pancholi',\n",
       " 'Boman Irani',\n",
       " 'Riteish Deshmukh',\n",
       " 'Nawazuddin Siddiqui',\n",
       " 'Shahbaaz Khan',\n",
       " 'Kriti Kharbanda',\n",
       " 'Naseeruddin Shah',\n",
       " 'Vardhan Puri',\n",
       " 'Sushant Singh Rajput',\n",
       " 'Kartik Aaryan',\n",
       " 'Vidyut Jammwal',\n",
       " 'Rani Mukerji',\n",
       " 'Salman Khan',\n",
       " 'Akshay Kumar',\n",
       " 'Saif Ali Khan',\n",
       " 'Kay Kay Menon',\n",
       " 'Nora Fatehi',\n",
       " 'Ashmit Patel',\n",
       " 'Viineet Kumar',\n",
       " 'Rahul Bhat',\n",
       " 'Vicky Kaushal',\n",
       " 'Sidharth Malhotra',\n",
       " 'Deepika Padukone',\n",
       " 'Geetanjali Thapa',\n",
       " 'Akshay Anand',\n",
       " 'Pulkit Samrat',\n",
       " 'Kartik Aaryan',\n",
       " 'Lee Byford',\n",
       " 'Taapsee Pannu',\n",
       " 'Aisha Ahmed',\n",
       " 'Ajay Devgn',\n",
       " 'Rani Mukerji',\n",
       " 'Manoj Bajpayee',\n",
       " 'Tiger Shroff',\n",
       " 'Varun Dhawan',\n",
       " 'Prabhu Deva',\n",
       " 'Ishaan Khattar',\n",
       " 'Abhay Deol',\n",
       " 'Yogesh Raj Mishra',\n",
       " 'Rajkummar Rao',\n",
       " 'Alia Bhatt',\n",
       " 'Naseeruddin Shah',\n",
       " 'Sumeet Vyas',\n",
       " 'Vinay Pathak',\n",
       " 'John Abraham',\n",
       " 'Danny Denzongpa',\n",
       " 'Harshvardhan Kapoor',\n",
       " 'Jimmy Sheirgill',\n",
       " 'Anil Kapoor',\n",
       " 'Ishaan Khattar',\n",
       " 'Ranbir Kapoor',\n",
       " 'Sanjay Dutt',\n",
       " 'Dharmesh Yelande',\n",
       " 'Taapsee Pannu',\n",
       " 'Arjun Mathur',\n",
       " 'Irrfan Khan',\n",
       " 'Akshay Kumar',\n",
       " 'John Abraham',\n",
       " 'Sonakshi Sinha',\n",
       " 'Utkarsh Sharma',\n",
       " 'Dharmendra',\n",
       " 'Rajkummar Rao',\n",
       " 'Jackie Shroff',\n",
       " 'Avinash Tiwary',\n",
       " 'Manoj Bajpayee',\n",
       " 'Paoli Dam',\n",
       " 'Sanya Malhotra',\n",
       " 'Shahid Kapoor',\n",
       " 'Abhishek Bharate',\n",
       " 'Nawazuddin Siddiqui',\n",
       " 'Manish Anand',\n",
       " 'Taapsee Pannu',\n",
       " 'Jackky Bhagnani',\n",
       " 'Anushka Sharma',\n",
       " 'Radhika Apte',\n",
       " 'Rhea Chakraborty',\n",
       " 'Govinda',\n",
       " 'Sohum Shah',\n",
       " 'Kajol',\n",
       " 'Arjun Kapoor',\n",
       " 'Ayushmann Khurrana',\n",
       " 'Ayushmann Khurrana',\n",
       " 'Nargis Fakhri',\n",
       " 'Aishwarya Devan',\n",
       " 'Neil Nitin Mukesh',\n",
       " 'Shakti Kapoor',\n",
       " 'Amit Sadh',\n",
       " 'Sunny Deol',\n",
       " 'Rahul Bagga',\n",
       " 'Sunny Deol',\n",
       " 'Amyra Dastur',\n",
       " 'Shah Rukh Khan',\n",
       " 'Ranveer Singh',\n",
       " 'Salman Khan',\n",
       " 'Ajay Devgn',\n",
       " 'Varun Dhawan',\n",
       " 'Shraddha Kapoor',\n",
       " 'Sunil Grover',\n",
       " 'Hrithik Roshan',\n",
       " 'Raj Arjun',\n",
       " 'Aamir Khan',\n",
       " 'Gurmeet Ram Rahim Singh',\n",
       " 'Arsh Bajwa',\n",
       " 'Rana Daggubati',\n",
       " 'Naseeruddin Shah',\n",
       " 'Kangana Ranaut',\n",
       " 'Nana Patekar',\n",
       " 'Arbaaz Khan',\n",
       " 'Varun Dhawan',\n",
       " 'Rajkummar Rao',\n",
       " 'Govinda',\n",
       " 'Rajat Kapoor',\n",
       " 'Anushka Sharma',\n",
       " 'Kiara Advani',\n",
       " 'Shaurya Singh',\n",
       " 'Pankaj Tripathi',\n",
       " 'Taapsee Pannu',\n",
       " 'Adil Hussain',\n",
       " 'Amitabh Bachchan',\n",
       " 'Sunny Leone',\n",
       " 'Hema Malini',\n",
       " 'Raveena Tandon',\n",
       " 'Amitabh Bachchan',\n",
       " 'Amardeep Insan',\n",
       " 'Shraddha Kapoor',\n",
       " 'Ayushmann Khurrana',\n",
       " 'Sachin Tendulkar',\n",
       " 'Irrfan Khan',\n",
       " 'Himansh Kohli',\n",
       " 'Adil Hussain',\n",
       " 'Jayesh Raj',\n",
       " 'Manisha Koirala',\n",
       " 'Deepika Padukone',\n",
       " 'Rajkummar Rao',\n",
       " 'Salman Khan',\n",
       " 'Riteish Deshmukh',\n",
       " 'Shiv Darshan',\n",
       " 'Ranbir Kapoor',\n",
       " 'Ashish Bisht',\n",
       " 'Aahana Kumra',\n",
       " 'Manoj Babani',\n",
       " 'Rajveer Ankur Singh',\n",
       " 'Kirti Kulhari',\n",
       " 'Shah Rukh Khan',\n",
       " 'Tiger Shroff',\n",
       " 'Akshay Kumar',\n",
       " 'Anil Kapoor',\n",
       " 'Kartik Aaryan',\n",
       " 'Ayushmann Khurrana',\n",
       " 'Nawazuddin Siddiqui',\n",
       " 'Prisha Aneja',\n",
       " 'Aadar Jain',\n",
       " 'Ayushmann Khurrana',\n",
       " 'Kunal Kapoor',\n",
       " 'Arjun Rampal',\n",
       " 'Kangana Ranaut',\n",
       " 'Farhan Akhtar',\n",
       " 'Sidharth Malhotra',\n",
       " 'Hugh Bonneville',\n",
       " 'Rishi Kapoor',\n",
       " 'Rajkummar Rao',\n",
       " 'Kunaal Roy Kapur',\n",
       " 'Sunny Leone',\n",
       " 'Shraddha Kapoor',\n",
       " 'Rina Charaniya',\n",
       " 'Nawazuddin Siddiqui',\n",
       " 'Sunny Deol',\n",
       " 'Sridevi',\n",
       " 'Saif Ali Khan',\n",
       " 'Soundarya Sharma',\n",
       " 'Sudha Chandran',\n",
       " 'Manoj Bajpayee',\n",
       " 'Zaira Wasim',\n",
       " 'Prakash Belawadi',\n",
       " 'Kalki Koechlin',\n",
       " 'Rajkummar Rao',\n",
       " 'Richa Chadha',\n",
       " 'Irrfan Khan',\n",
       " 'Zareen Khan',\n",
       " 'Nayna Bandhopadhyay',\n",
       " 'Vidya Balan',\n",
       " 'Nishikant Kamat',\n",
       " 'Sanjay Mishra',\n",
       " 'Kapil Sharma',\n",
       " 'Pulkit Samrat',\n",
       " 'Vijay Varma',\n",
       " 'Sushama Deshpande',\n",
       " 'Richa Chadha',\n",
       " 'Prince Shah',\n",
       " 'Tanima Bhattacharya',\n",
       " 'Akshay Kumar',\n",
       " 'Zeenat Aman',\n",
       " 'Madhavan',\n",
       " 'Tusshar Kapoor',\n",
       " 'Tusshar Kapoor',\n",
       " 'Himansh Kohli',\n",
       " 'Sadhana Singh',\n",
       " 'Sunny Deol',\n",
       " 'Aditya Roy Kapoor',\n",
       " 'Rishi Kapoor',\n",
       " 'Rajniesh Duggall',\n",
       " 'Krishna Chaturvedi',\n",
       " 'Girish Taurani',\n",
       " 'Sonam Kapoor',\n",
       " 'Sukhesh Arora',\n",
       " 'Raima Sen',\n",
       " 'Anuj Sachdeva',\n",
       " 'Parthaa Akerkar',\n",
       " 'Priyanka Chopra',\n",
       " 'Sidharth Malhotra',\n",
       " 'John Abraham',\n",
       " 'Patralekhaa Paul',\n",
       " 'Shah Rukh Khan',\n",
       " 'Swara Bhaskar',\n",
       " 'Randeep Hooda',\n",
       " 'Shraddha Kapoor',\n",
       " 'Pankaj Tripathi',\n",
       " 'Jimmy Sheirgill',\n",
       " 'Kartik Elangovan',\n",
       " 'Boman Irani',\n",
       " 'Manoj Bajpayee',\n",
       " 'Sharman Joshi',\n",
       " 'Emraan Hashmi',\n",
       " 'Aanchal Dwivedi',\n",
       " 'Sanjay Singh',\n",
       " 'Arvind Swamy',\n",
       " 'Radhika Apte',\n",
       " 'Randeep Hooda',\n",
       " 'Sachiin Joshi',\n",
       " 'Kajal Aggarwal',\n",
       " 'Amitabh Bachchan',\n",
       " 'Shahid Kapoor',\n",
       " 'Hazel Croney',\n",
       " 'V. Ravichandran',\n",
       " 'Vipin Sharma',\n",
       " 'Nawazuddin Siddiqui',\n",
       " 'Pulkit Samrat',\n",
       " 'Tannishtha Chatterjee',\n",
       " 'Krrish Chhabria',\n",
       " 'Avinash Dhyani',\n",
       " 'Zeenat Aman',\n",
       " 'Salman Khan',\n",
       " 'Shashank Arora',\n",
       " 'Urvashi Rautela',\n",
       " 'Naseeruddin Shah',\n",
       " 'Sara Loren',\n",
       " 'Tom Alter',\n",
       " 'Irrfan Khan',\n",
       " 'John Abraham',\n",
       " 'Rajeev Khandelwal',\n",
       " \"Ileana D'Cruz\",\n",
       " 'Sahil Anand',\n",
       " 'Hrithik Roshan',\n",
       " 'Diana Penty',\n",
       " 'Niharica Raizada',\n",
       " 'Tiger Shroff',\n",
       " 'Sidharth Malhotra',\n",
       " 'Nawazuddin Siddiqui',\n",
       " 'Emraan Hashmi',\n",
       " 'Taapsee Pannu',\n",
       " 'Tannishtha Chatterjee',\n",
       " 'Riteish Deshmukh',\n",
       " 'Yash Soni',\n",
       " 'Shreyas Talpade',\n",
       " 'Vinay Pathak',\n",
       " 'Jimmy Sharma',\n",
       " 'Sushant Singh Rajput',\n",
       " 'Ashok Insan',\n",
       " 'RJ Balaji',\n",
       " 'Saurav Chakraborty',\n",
       " 'Shashank Udapurkar',\n",
       " 'Shubham',\n",
       " 'Manoj Bajpayee',\n",
       " 'Sunny Leone',\n",
       " 'Aashish Bhatt',\n",
       " 'Ajay Devgn',\n",
       " 'Ronit Roy',\n",
       " 'Ranbir Kapoor',\n",
       " 'Neha Sharma',\n",
       " 'Farhan Akhtar',\n",
       " 'John Abraham',\n",
       " 'Alia Bhatt',\n",
       " 'Vaani Kapoor',\n",
       " 'Neha Dhupia',\n",
       " 'Jimmy Sheirgill',\n",
       " 'Sonarika Bhadoria',\n",
       " 'Amitabh Bachchan',\n",
       " 'Sharman Joshi',\n",
       " 'Aamir Khan',\n",
       " 'Harshvardhan Kapoor',\n",
       " 'Salman Khan',\n",
       " 'Kangana Ranaut',\n",
       " 'Kangana Ranaut',\n",
       " 'Soha Ali Khan',\n",
       " 'Prabhu Deva',\n",
       " 'Shah Rukh Khan',\n",
       " 'Salman Khan',\n",
       " 'Ranveer Singh',\n",
       " 'Anil Kapoor',\n",
       " 'Akshay Kumar',\n",
       " 'Akshay Kumar',\n",
       " 'Akshay Kumar',\n",
       " 'Akshay Kumar',\n",
       " 'Shakti Kapoor',\n",
       " 'Bipasha Basu',\n",
       " 'Arjun Kapoor',\n",
       " 'Zayed Khan',\n",
       " 'Malaika Arora',\n",
       " 'Naman Jain',\n",
       " 'Gurmeet Choudhary',\n",
       " 'Kay Kay Menon',\n",
       " 'Rati Agnihotri',\n",
       " 'Amitabh Bachchan',\n",
       " 'Arjun Rampal',\n",
       " 'Varun Dhawan',\n",
       " 'Swanand Kirkire',\n",
       " 'Sulabha Arya',\n",
       " 'Irrfan Khan',\n",
       " 'Nana Patekar',\n",
       " 'Ayushmann Khurrana',\n",
       " 'Anupam Kher',\n",
       " 'Gurmeet Ram Rahim Singh',\n",
       " 'Sidhant Gupta',\n",
       " 'Arjun Mathur',\n",
       " 'Ganesh Acharya',\n",
       " 'Anushka Sharma',\n",
       " 'Gulshan Devaiah',\n",
       " 'Sushant Singh Rajput',\n",
       " 'Adhyayan Suman',\n",
       " 'Vira Sathidar',\n",
       " 'Kalki Koechlin',\n",
       " 'Sunny Leone',\n",
       " 'Sara Loren',\n",
       " 'Emraan Hashmi',\n",
       " 'Auroshika Dey',\n",
       " 'Ira Dubey',\n",
       " 'Naseeruddin Shah',\n",
       " 'Vinay Pathak',\n",
       " 'Ram Kapoor',\n",
       " 'Deepika Padukone',\n",
       " 'Ranbir Kapoor',\n",
       " 'Shakti Anand',\n",
       " 'Anil Kapoor',\n",
       " 'Arshad Warsi',\n",
       " 'Meenakshi Dixit',\n",
       " 'Yash Acharya',\n",
       " 'Rajkummar Rao',\n",
       " 'Rahul Bagga',\n",
       " 'Mohit Baghel',\n",
       " 'Rishi Verma',\n",
       " 'Mimoh Chakraborty',\n",
       " 'Swara Bhaskar',\n",
       " 'Richa Chadha',\n",
       " 'Arshad Warsi',\n",
       " 'Mugdha Godse',\n",
       " 'Yashpal Sharma',\n",
       " 'Dharmendra',\n",
       " 'Sunny Deol',\n",
       " 'Smitha Gondkar',\n",
       " 'Kunal Kapoor',\n",
       " 'Ajay Devgn',\n",
       " 'Jacqueline Fernandez',\n",
       " 'Rishi Kapoor',\n",
       " 'Akshay Kumar',\n",
       " 'Vinay Pathak',\n",
       " 'Nawazuddin Siddiqui',\n",
       " 'Bhavita Anand',\n",
       " 'Saif Ali Khan',\n",
       " 'Suraj Pancholi',\n",
       " 'Shamim Khan',\n",
       " 'Irrfan Khan',\n",
       " 'Suhaas Ahuja',\n",
       " 'Jaideep Ahlawat',\n",
       " 'Charanpreet Insan',\n",
       " 'Akanksha Puri',\n",
       " 'Kunal Khemu',\n",
       " 'Aishwarya Rai Bachchan',\n",
       " 'Seema Azmi',\n",
       " 'Parveen Kaur',\n",
       " 'Kapil Sharma',\n",
       " 'Kartik Aaryan',\n",
       " 'Diganth',\n",
       " 'Shahid Kapoor',\n",
       " 'Nawazuddin Siddiqui',\n",
       " 'Kunal Khemu',\n",
       " 'Mann Bagga',\n",
       " 'Manish Paul',\n",
       " 'Sanjeev Kumar',\n",
       " 'Madhuri Dixit',\n",
       " 'Shiv Darshan',\n",
       " 'Gopi Desai',\n",
       " 'Mohinder Gujral',\n",
       " 'Zeenat Aman',\n",
       " 'Ranveer Singh',\n",
       " 'Salman Khan',\n",
       " 'Sidharth Malhotra',\n",
       " 'Adhyayan Suman',\n",
       " 'Indrapal Ahuja',\n",
       " 'Jimmy Sheirgill',\n",
       " 'Abhay Deol',\n",
       " 'Sahil Anand',\n",
       " 'Alia Bhatt',\n",
       " 'Sampat Pal Devi',\n",
       " 'Farhan Akhtar',\n",
       " 'Madhuri Dixit',\n",
       " 'Kangana Ranaut',\n",
       " 'Ayushmann Khurrana',\n",
       " 'Ali Zafar',\n",
       " 'Mahek Chahal',\n",
       " 'Monali Thakur',\n",
       " 'Sunny Leone',\n",
       " 'Harman Baweja',\n",
       " 'Sanjay Mishra',\n",
       " 'Sharman Joshi',\n",
       " 'Sachin Khedekar',\n",
       " 'Leeza Mangaldas',\n",
       " 'Pulkit Samrat',\n",
       " 'Zara Sheikh',\n",
       " 'Arjun Kapoor',\n",
       " 'Purab Kohli',\n",
       " 'Amitabh Bachchan',\n",
       " 'Varun Dhawan',\n",
       " 'Arvinder Bhatti',\n",
       " 'Kanika Batra',\n",
       " 'Jackky Bhagnani',\n",
       " 'Rajeev Khandelwal',\n",
       " 'Tanuj Virwani',\n",
       " 'Vijay Raaz',\n",
       " 'Kannan Arunachalam',\n",
       " 'Anjori Alagh',\n",
       " 'Satish Kaushik',\n",
       " 'Rahul Bagga',\n",
       " 'Himesh Reshammiya',\n",
       " 'Farooq Shaikh',\n",
       " 'Makrand Deshpande',\n",
       " 'Eesha Agarwal',\n",
       " 'Siddharth Gupta',\n",
       " 'Tiger Shroff',\n",
       " 'Rajkummar Rao',\n",
       " 'Sharib Hashmi',\n",
       " 'Kangana Ranaut',\n",
       " 'Kartik Aaryan',\n",
       " 'Swara Bhaskar',\n",
       " 'Simer Motiani',\n",
       " 'Anshuman Jha',\n",
       " 'Sidharth Malhotra',\n",
       " 'Vidya Balan',\n",
       " 'Saif Ali Khan',\n",
       " 'Varun Dhawan',\n",
       " 'Jay Bhanushali',\n",
       " 'Armaan Jain',\n",
       " 'Rajesh Khanna',\n",
       " 'Vir Das',\n",
       " 'Akshay Kumar',\n",
       " 'Jimmy Sheirgill',\n",
       " 'Reshmi Ghosh',\n",
       " 'Akshay Oberoi',\n",
       " 'Akshay Kumar',\n",
       " 'Anupam Kher',\n",
       " 'Rani Mukerji',\n",
       " 'Emraan Hashmi',\n",
       " 'Priyanka Chopra',\n",
       " 'Bipasha Basu',\n",
       " 'Deepika Padukone',\n",
       " 'Sonam Kapoor',\n",
       " 'Salil Acharya',\n",
       " 'Salman Khan',\n",
       " 'Saahil Prem',\n",
       " 'Alieesa P Badresia',\n",
       " 'Manoj Amarnani',\n",
       " 'Sasha Aagha',\n",
       " 'Tabu',\n",
       " 'Hrithik Roshan',\n",
       " 'Rati Agnihotri',\n",
       " 'Aditya Roy Kapoor',\n",
       " 'Asrani',\n",
       " 'Harshvardhan Deo',\n",
       " 'Nikhil Dwivedi',\n",
       " 'Karanvir Bohra',\n",
       " 'Puru Chibber',\n",
       " 'Soha Ali Khan',\n",
       " 'Rhea Chakraborty',\n",
       " 'Shah Rukh Khan',\n",
       " 'Rekha',\n",
       " 'Anupam Kher',\n",
       " 'Randeep Hooda',\n",
       " 'Akshay Kumar',\n",
       " 'Aadil Chahal',\n",
       " 'Shabana Azmi',\n",
       " 'Dimple Kapadia',\n",
       " 'Nishant Dahiya',\n",
       " 'Ranveer Singh',\n",
       " 'Emraan Hashmi',\n",
       " 'Saif Ali Khan',\n",
       " 'Vinod Acharya',\n",
       " 'Mannara Chopra',\n",
       " 'Prabhas',\n",
       " 'Mischa Barton',\n",
       " 'Shiv Panditt',\n",
       " 'Annu Kapoor',\n",
       " 'Barun Sobti',\n",
       " 'Rahul Bhat',\n",
       " 'Aamir Khan',\n",
       " 'Adhyayan Suman',\n",
       " 'Imran Khan',\n",
       " 'Naveen Kasturia',\n",
       " 'Arjun Rampal',\n",
       " 'Sarita Joshi',\n",
       " 'Kartik Aaryan',\n",
       " 'Juhi Chawla',\n",
       " 'Saif Ali Khan',\n",
       " 'Manisha Kelkar',\n",
       " 'Farooq Shaikh',\n",
       " 'Akshay Kumar',\n",
       " 'Randeep Hooda',\n",
       " 'Vivek Oberoi',\n",
       " 'Rajkummar Rao',\n",
       " 'Akash',\n",
       " 'Vishwa Mohan Badola',\n",
       " 'Neil Nitin Mukesh',\n",
       " 'Saqib Saleem',\n",
       " 'Arshad Warsi',\n",
       " 'Jimmy Sheirgill',\n",
       " 'Asha Bhosle',\n",
       " 'Kamal Haasan',\n",
       " 'Jackky Bhagnani',\n",
       " 'Aditya Roy Kapoor',\n",
       " 'Emraan Hashmi',\n",
       " 'Ajay Devgn',\n",
       " 'Ayushmann Khurrana',\n",
       " 'Vivek Oberoi',\n",
       " 'Vidyut Jammwal',\n",
       " 'Rani Mukerji',\n",
       " 'Saif Ali Khan',\n",
       " 'Riya Vij',\n",
       " 'Arjun Kapoor',\n",
       " 'Preity Zinta',\n",
       " 'Veena Malik',\n",
       " 'Ranbir Kapoor',\n",
       " 'Pulkit Samrat',\n",
       " 'Rupa Bhimani',\n",
       " 'Dhanush',\n",
       " 'Kay Kay Menon',\n",
       " 'Neil Nitin Mukesh',\n",
       " 'Vidya Balan',\n",
       " 'Anupam Kher',\n",
       " 'Sanjay Dutt',\n",
       " 'Farhan Akhtar',\n",
       " 'Wamiqa Gabbi',\n",
       " 'Shadab Kamal',\n",
       " 'Sunil Shetty',\n",
       " 'Prateik',\n",
       " 'Tusshar Kapoor',\n",
       " 'Tanuj Virwani',\n",
       " 'Poonam Pandey',\n",
       " 'Deepak Dobriyal',\n",
       " 'Hemant Gopal',\n",
       " 'Joy Mukherjee',\n",
       " 'Rishi Kapoor',\n",
       " 'Rajesh Tailang',\n",
       " 'Akshay Kumar',\n",
       " 'John Abraham',\n",
       " 'Amitabh Bachchan',\n",
       " 'Sushant Singh Rajput',\n",
       " 'Shruti Haasan',\n",
       " 'Deepika Padukone',\n",
       " 'Vivek Oberoi',\n",
       " 'Naseeruddin Shah',\n",
       " 'Karan Kundrra',\n",
       " 'Shahid Kapoor',\n",
       " 'Aida Elkashef',\n",
       " 'Irrfan Khan',\n",
       " 'Anisa Butt',\n",
       " 'Akshay Kumar',\n",
       " 'Rajkummar Rao',\n",
       " 'Manish Paul',\n",
       " 'Puneet Singh Ratn',\n",
       " 'Kangana Ranaut',\n",
       " 'Sumit Nijhawan',\n",
       " 'Tinnu Anand',\n",
       " 'Chandan Roy Sanyal',\n",
       " 'Elisha Kriis',\n",
       " 'Ashmit Patel',\n",
       " 'Imran Khan',\n",
       " 'Manu Rishi Chadha',\n",
       " 'Naseeruddin Shah',\n",
       " 'Paresh Rawal',\n",
       " 'Saif Ali Khan',\n",
       " 'Aamir Khan',\n",
       " 'Ali Zafar',\n",
       " 'Ranveer Singh',\n",
       " 'Sharman Joshi',\n",
       " 'Naseeruddin Shah',\n",
       " 'Shiney Ahuja',\n",
       " 'Karan Sharma',\n",
       " 'Sunny Deol',\n",
       " 'Ranveer Singh',\n",
       " 'Hrithik Roshan',\n",
       " 'Kareena Kapoor',\n",
       " 'Prateik',\n",
       " 'Kiran Bhatia',\n",
       " 'Bipasha Basu',\n",
       " 'Riteish Deshmukh',\n",
       " 'Jahangir Khan',\n",
       " 'Irrfan Khan',\n",
       " 'Vidya Balan',\n",
       " 'Mithun Chakraborty',\n",
       " 'Kareena Kapoor',\n",
       " 'Manish Chaudhary',\n",
       " 'Kavin Dave',\n",
       " 'Shikhi Gupta',\n",
       " 'Archana Joglekar',\n",
       " 'Tusshar Kapoor',\n",
       " 'Pulkit Samrat',\n",
       " 'Ayushmann Khurrana',\n",
       " 'Nikhil Dwivedi',\n",
       " 'Anil Kapoor',\n",
       " 'Karisma Kapoor',\n",
       " 'Arjun Kapoor',\n",
       " 'Sanjay Dutt',\n",
       " 'Gul Panag',\n",
       " 'Yudhveer Bakoliya',\n",
       " 'Kay Kay Menon',\n",
       " 'Emraan Hashmi',\n",
       " 'Sharman Joshi',\n",
       " 'Shahid Kapoor',\n",
       " 'Anupam Kher',\n",
       " 'Anya Anand',\n",
       " 'Julia Datt',\n",
       " 'Manoj Bajpayee',\n",
       " 'Manoj Bajpayee',\n",
       " 'Saif Ali Khan',\n",
       " 'Naresh Sharma',\n",
       " 'Riteish Deshmukh',\n",
       " 'Sonu Sood',\n",
       " 'Nassar Abdulla',\n",
       " 'Salman Khan',\n",
       " 'Vickrant Mahajan',\n",
       " 'Freny Bhagat',\n",
       " 'Akshay Kumar',\n",
       " 'Omkar Das Manikpuri',\n",
       " 'Sunil Shetty',\n",
       " 'Manoj Bajpayee',\n",
       " 'Bidita Bag',\n",
       " 'Harish Chabbra',\n",
       " 'Ranbir Kapoor',\n",
       " 'Kareena Kapoor',\n",
       " 'Sagar Bhangade',\n",
       " 'Vivek Oberoi',\n",
       " 'Ravi Kishan',\n",
       " 'Paresh Rawal',\n",
       " 'Rani Mukerji',\n",
       " 'Manoj Bajpayee',\n",
       " 'J.D. Chakravarthi',\n",
       " 'Cary Elwes',\n",
       " 'Arjun Rampal',\n",
       " 'Alia Bhatt',\n",
       " 'Jackky Bhagnani',\n",
       " 'Emraan Hashmi',\n",
       " 'Vicky Ahuja',\n",
       " 'Sunidhi Chauhan',\n",
       " 'Asrani',\n",
       " 'Shah Rukh Khan',\n",
       " 'Aamir Khan',\n",
       " 'Himanshu Bhatt',\n",
       " 'Ajay Devgn',\n",
       " 'Ashok Banthia',\n",
       " 'Salman Khan',\n",
       " 'Vinod Khanna',\n",
       " 'Akshay Kumar',\n",
       " 'Amitabh Bachchan',\n",
       " 'Sridevi',\n",
       " 'Vivek Sudershan',\n",
       " 'Nafisa Ali',\n",
       " 'Mohsin',\n",
       " 'Prateik',\n",
       " 'Gul Panag',\n",
       " 'Vatsal Sheth',\n",
       " 'Ajay Devgn',\n",
       " 'Russell Geoffrey Banks',\n",
       " 'Vinay Pathak',\n",
       " 'Rishi Kapoor',\n",
       " 'Priyanka Chopra',\n",
       " 'Madhavan',\n",
       " 'Arshad Warsi',\n",
       " 'Deepti Naval',\n",
       " 'Akshay Kumar',\n",
       " 'Sumit Arora',\n",
       " 'Anay',\n",
       " 'Om Puri',\n",
       " 'Abhishek Bachchan',\n",
       " 'Sendhil Ramamurthy',\n",
       " 'Darsheel Safary',\n",
       " 'Vinay Pathak',\n",
       " 'Ishaan Manhaas',\n",
       " 'Sanjay Mishra',\n",
       " 'Ashutosh Rana',\n",
       " 'Juhi Chawla',\n",
       " 'Govinda',\n",
       " 'Mimoh Chakraborty',\n",
       " 'Tusshar Kapoor',\n",
       " 'Kainaz Motivala',\n",
       " 'Partho A. Gupte',\n",
       " 'Nana Patekar',\n",
       " 'Sara Arjun',\n",
       " 'Kalki Koechlin',\n",
       " 'Kartik Aaryan',\n",
       " 'Vinay Pathak',\n",
       " 'Lillete Dubey',\n",
       " 'Sanjay Dutt',\n",
       " 'Amitabh Bachchan',\n",
       " 'Imran Khan',\n",
       " 'Emraan Hashmi',\n",
       " 'Aarav Khanna',\n",
       " 'Hrithik Roshan',\n",
       " 'Raghuvir Yadav',\n",
       " 'Gulshan Grover',\n",
       " 'Naushaad Abbas',\n",
       " 'Shefali Shah',\n",
       " 'Ajay Devgn',\n",
       " 'Rahul Jaiswal',\n",
       " 'Apoorva Arora',\n",
       " 'Isha Koppikar',\n",
       " 'Rajniesh Duggall',\n",
       " 'Amitabh Bachchan',\n",
       " 'Sanjay Dutt',\n",
       " 'Anupam Kher',\n",
       " 'Salman Khan',\n",
       " 'Deepshika Nagpal',\n",
       " 'Deepak Dobriyal',\n",
       " 'Tusshar Kapoor',\n",
       " 'Kiron Kher',\n",
       " 'Imran Khan',\n",
       " 'Shahid Kapoor',\n",
       " 'Mikaal',\n",
       " 'John Abraham',\n",
       " 'Jimmy Sheirgill',\n",
       " 'Vinay Pathak',\n",
       " 'Vinay Virmani',\n",
       " 'Dev Anand',\n",
       " 'Zayed Khan',\n",
       " 'Saqib Saleem',\n",
       " 'Sachiin Joshi',\n",
       " 'Shah Rukh Khan',\n",
       " 'Ranbir Kapoor',\n",
       " 'Chirag Paswan',\n",
       " 'Dharmendra',\n",
       " 'Himesh Reshammiya',\n",
       " 'Ranveer Singh',\n",
       " 'Akshay Kumar',\n",
       " 'Abhishek Bachchan',\n",
       " 'Rani Mukerji',\n",
       " 'Ajay Devgn',\n",
       " 'Vidya Balan',\n",
       " 'Priyanka Chopra',\n",
       " 'Shahid Kapoor',\n",
       " 'Prateik',\n",
       " 'Salman Khan',\n",
       " 'Siddharth',\n",
       " 'Amitabh Bachchan',\n",
       " 'Vidya Balan',\n",
       " 'Paresh Rawal',\n",
       " 'Sunny Gill',\n",
       " 'Shreyas Talpade',\n",
       " 'Tabu',\n",
       " 'Shah Rukh Khan',\n",
       " 'Amitabh Bachchan',\n",
       " 'Siddhartha Gupta',\n",
       " 'Shah Rukh Khan',\n",
       " 'Tanushree Dutta',\n",
       " 'Paul Sidhu',\n",
       " 'Sunny Deol',\n",
       " 'Gurdas Maan',\n",
       " 'Master Shams',\n",
       " 'Om Puri',\n",
       " 'Vikrum Kumar',\n",
       " 'Aditya Narayan',\n",
       " 'Arshad Warsi',\n",
       " 'Boman Irani',\n",
       " 'Nana Patekar',\n",
       " 'Priyanka Chopra',\n",
       " 'Arbaaz Khan',\n",
       " 'Rekha',\n",
       " 'Rahul Bose',\n",
       " 'Nana Patekar',\n",
       " 'Sudeep',\n",
       " 'Farooq Shaikh',\n",
       " 'Rohit Roy',\n",
       " 'Sachin Khedekar',\n",
       " 'Anuj Saxena',\n",
       " 'Akshay Kumar',\n",
       " 'Hazel Croney',\n",
       " 'Sanjeev Bhaskar',\n",
       " 'Vivek Oberoi',\n",
       " 'Abhishek Bachchan',\n",
       " 'Atul Kulkarni',\n",
       " 'Rajpal Yadav',\n",
       " 'Hrithik Roshan',\n",
       " 'Nushrat Bharucha',\n",
       " 'Kareena Kapoor',\n",
       " 'Bhushan Agarwal',\n",
       " 'Prashant Narayanan',\n",
       " 'Sanjay Dutt',\n",
       " 'Akshay Kumar',\n",
       " 'Ali Zafar',\n",
       " 'Rajat Barmecha',\n",
       " 'Ajay Devgn',\n",
       " 'Bobby Deol',\n",
       " 'Omkar Das Manikpuri',\n",
       " 'Neil Nitin Mukesh',\n",
       " 'Gul Panag',\n",
       " 'Raj Singh Chaudhary',\n",
       " 'John Abraham',\n",
       " 'Barkha Madan',\n",
       " 'Salman Khan',\n",
       " 'Supriya Pathak',\n",
       " 'Sunil Shetty',\n",
       " 'Rituparna Sengupta',\n",
       " 'Ranvir Shorey',\n",
       " 'Mallika Sherawat',\n",
       " 'Emraan Hashmi',\n",
       " 'Rishi Kapoor',\n",
       " 'Ajay Devgn',\n",
       " 'Manoj Bajpayee',\n",
       " 'Sanjay Dutt',\n",
       " 'John Abraham',\n",
       " 'Hrithik Roshan',\n",
       " 'Varun Bhagwat',\n",
       " 'Deepika Padukone',\n",
       " 'Sunny Deol',\n",
       " 'Rajat Kapoor',\n",
       " 'Akanksha',\n",
       " 'Jimmy Sheirgill',\n",
       " 'Sanjay Dutt',\n",
       " 'Ranveer Singh',\n",
       " 'Aditya Srivastava',\n",
       " 'Arunoday Singh',\n",
       " 'Akshay Kumar',\n",
       " 'Akshay Oberoi',\n",
       " 'Ajay Devgn',\n",
       " 'Neil Nitin Mukesh',\n",
       " 'Sahil Khan',\n",
       " 'Imran Khan',\n",
       " 'Sushmita Sen',\n",
       " 'Priyanka Chopra',\n",
       " 'Zeenat Aman',\n",
       " 'Bipasha Basu',\n",
       " 'Akshay Kumar',\n",
       " 'Aamir Khan',\n",
       " 'Farhan Akhtar',\n",
       " 'Saif Ali Khan',\n",
       " 'Salman Khan',\n",
       " 'Waheeda Rehman',\n",
       " 'Kangana Ranaut',\n",
       " 'Hrishitaa Bhatt',\n",
       " 'Ranbir Kapoor',\n",
       " 'Asrani',\n",
       " 'Irrfan Khan',\n",
       " 'Kay Kay Menon',\n",
       " 'Arshad Warsi',\n",
       " 'Paresh Rawal',\n",
       " 'Rati Agnihotri',\n",
       " 'Harman Baweja',\n",
       " 'Shahid Kapoor',\n",
       " 'Fardeen Khan',\n",
       " 'John Abraham',\n",
       " 'Kay Kay Menon',\n",
       " 'Aftab Shivdasani',\n",
       " 'Naseeruddin Shah',\n",
       " 'Inaamulhaq',\n",
       " 'Neil Nitin Mukesh',\n",
       " 'Kunal Khemu',\n",
       " 'Bobby Deol',\n",
       " 'Anita',\n",
       " 'Parzaan Dastur',\n",
       " 'Meghan Jadhav',\n",
       " 'Shreyas Talpade',\n",
       " 'John Abraham',\n",
       " 'Kay Kay Menon',\n",
       " 'Sanjay Dutt',\n",
       " 'Mithun Chakraborty',\n",
       " 'Govinda',\n",
       " 'Sunil Shetty',\n",
       " 'Jackie Shroff',\n",
       " 'Anupam Kher',\n",
       " 'Shreyas Talpade',\n",
       " 'Rishi Kapoor',\n",
       " 'Rajendra Prasad',\n",
       " 'Arjun Rampal',\n",
       " 'Mithun Chakraborty',\n",
       " 'Mithun Chakraborty',\n",
       " 'Bobby Deol',\n",
       " 'Shahid Kapoor',\n",
       " 'Harman Baweja',\n",
       " 'Fardeen Khan',\n",
       " 'Sanjay Dutt',\n",
       " 'Ranbir Kapoor',\n",
       " 'Salman Khan',\n",
       " 'Akshay Kumar',\n",
       " 'Atmaram Bhende',\n",
       " 'Amitabh Bachchan',\n",
       " 'Salman Khan',\n",
       " 'Manoj Bajpayee',\n",
       " 'Emraan Hashmi',\n",
       " 'Lewis Tan',\n",
       " 'Akshay Kumar',\n",
       " 'Amitabh Bachchan',\n",
       " 'Ranbir Kapoor',\n",
       " 'Aamir Bashir',\n",
       " 'Farooq Shaikh',\n",
       " 'Mithun Chakraborty',\n",
       " 'Abhishek Bachchan',\n",
       " 'Saif Ali Khan',\n",
       " 'Shah Rukh Khan',\n",
       " 'Aamir Khan',\n",
       " 'Akshay Kumar',\n",
       " 'Ajay Devgn',\n",
       " 'Hrithik Roshan',\n",
       " 'Ranbir Kapoor',\n",
       " 'Amitabh Bachchan',\n",
       " 'Amitabh Bachchan',\n",
       " 'Ajay Devgn',\n",
       " 'Omkar Bhatkar',\n",
       " 'Shreyas Talpade',\n",
       " 'Manisha Koirala',\n",
       " 'Ajay Devgn',\n",
       " 'Tusshar Kapoor',\n",
       " 'Juhi Chawla',\n",
       " 'Ajay Devgn',\n",
       " 'Kay Kay Menon',\n",
       " 'Akshay Kumar',\n",
       " 'Dino Morea',\n",
       " 'Mimoh Chakraborty',\n",
       " 'Emraan Hashmi',\n",
       " ...]"
      ]
     },
     "execution_count": 67,
     "metadata": {},
     "output_type": "execute_result"
    }
   ],
   "source": [
    "list(bollywood_series)"
   ]
  },
  {
   "cell_type": "code",
   "execution_count": 71,
   "id": "77ce68e1",
   "metadata": {
    "ExecuteTime": {
     "end_time": "2024-04-30T17:15:05.138533Z",
     "start_time": "2024-04-30T17:15:05.130793Z"
    },
    "scrolled": true
   },
   "outputs": [
    {
     "name": "stdout",
     "output_type": "stream",
     "text": [
      "False\n",
      "True\n",
      "True\n",
      "False\n"
     ]
    }
   ],
   "source": [
    "print('Vicky Kaushal' in bollywood_series) # checks for index not values, by default\n",
    "print('Uri: The Surgical Strike' in bollywood_series)\n",
    "print('Vicky Kaushal' in bollywood_series.values)\n",
    "print('Vicky Kaushal' in bollywood_series.index)"
   ]
  },
  {
   "cell_type": "code",
   "execution_count": null,
   "id": "422f1c0d",
   "metadata": {
    "ExecuteTime": {
     "end_time": "2024-04-30T17:16:25.841580Z",
     "start_time": "2024-04-30T17:16:25.788413Z"
    }
   },
   "outputs": [],
   "source": [
    "[print(i) for i in bollywood_series] #looping through a series using a list comprehension"
   ]
  },
  {
   "cell_type": "markdown",
   "id": "aa37351d",
   "metadata": {},
   "source": [
    "### Boolean Indexing"
   ]
  },
  {
   "cell_type": "code",
   "execution_count": 77,
   "id": "3e881e92",
   "metadata": {
    "ExecuteTime": {
     "end_time": "2024-04-30T17:21:16.537534Z",
     "start_time": "2024-04-30T17:21:16.524700Z"
    },
    "scrolled": true
   },
   "outputs": [
    {
     "data": {
      "text/plain": [
       "movie\n",
       "Why Cheat India                      Emraan Hashmi\n",
       "Azhar (film)                         Emraan Hashmi\n",
       "Raaz: Reboot                         Emraan Hashmi\n",
       "Mr. X (2015 film)                    Emraan Hashmi\n",
       "Raja Natwarlal                       Emraan Hashmi\n",
       "Ungli                                Emraan Hashmi\n",
       "Ek Thi Daayan                        Emraan Hashmi\n",
       "Shanghai (2012 film)                 Emraan Hashmi\n",
       "Rush (2012 film)                     Emraan Hashmi\n",
       "Murder 2                             Emraan Hashmi\n",
       "Crook (film)                         Emraan Hashmi\n",
       "Tum Mile                             Emraan Hashmi\n",
       "Jannat (film)                        Emraan Hashmi\n",
       "Awarapan                             Emraan Hashmi\n",
       "The Train (2007 film)                Emraan Hashmi\n",
       "Aksar                                Emraan Hashmi\n",
       "Dil Diya Hai                         Emraan Hashmi\n",
       "Jawani Diwani: A Youthful Joyride    Emraan Hashmi\n",
       "Aashiq Banaya Aapne                  Emraan Hashmi\n",
       "Zeher                                Emraan Hashmi\n",
       "Tumsa Nahin Dekha: A Love Story      Emraan Hashmi\n",
       "Name: lead, dtype: object"
      ]
     },
     "execution_count": 77,
     "metadata": {},
     "output_type": "execute_result"
    }
   ],
   "source": [
    "bollywood_series[bollywood_series.values=='Emraan Hashmi']"
   ]
  },
  {
   "cell_type": "code",
   "execution_count": 102,
   "id": "0743d6fe",
   "metadata": {
    "ExecuteTime": {
     "end_time": "2024-04-30T17:31:30.230536Z",
     "start_time": "2024-04-30T17:31:30.218274Z"
    },
    "scrolled": false
   },
   "outputs": [
    {
     "data": {
      "text/plain": [
       "movie\n",
       "Badla (2019 film)       Amitabh Bachchan\n",
       "Kesari (film)               Akshay Kumar\n",
       "Mission Mangal              Akshay Kumar\n",
       "Housefull 4                 Akshay Kumar\n",
       "Good Newwz                  Akshay Kumar\n",
       "                              ...       \n",
       "Andaaz                      Akshay Kumar\n",
       "Armaan (2003 film)      Amitabh Bachchan\n",
       "Kaante                  Amitabh Bachchan\n",
       "Aankhen (2002 film)     Amitabh Bachchan\n",
       "Awara Paagal Deewana        Akshay Kumar\n",
       "Name: lead, Length: 93, dtype: object"
      ]
     },
     "execution_count": 102,
     "metadata": {},
     "output_type": "execute_result"
    }
   ],
   "source": [
    "bollywood_series[(bollywood_series.values=='Akshay Kumar') | (bollywood_series.values=='Amitabh Bachchan')]"
   ]
  },
  {
   "cell_type": "code",
   "execution_count": 111,
   "id": "ab4f7b5f",
   "metadata": {
    "ExecuteTime": {
     "end_time": "2024-04-30T17:37:57.229234Z",
     "start_time": "2024-04-30T17:37:56.758261Z"
    },
    "scrolled": true
   },
   "outputs": [
    {
     "data": {
      "text/plain": [
       "<Axes: xlabel='lead'>"
      ]
     },
     "execution_count": 111,
     "metadata": {},
     "output_type": "execute_result"
    },
    {
     "data": {
      "image/png": "[encoded data removed]",
      "text/plain": [
       "<Figure size 640x480 with 1 Axes>"
      ]
     },
     "metadata": {},
     "output_type": "display_data"
    }
   ],
   "source": [
    "bollywood_series.sort_values().value_counts().head(10).plot(kind='bar')"
   ]
  },
  {
   "cell_type": "markdown",
   "id": "01765749",
   "metadata": {},
   "source": [
    "### Other common methods"
   ]
  },
  {
   "cell_type": "code",
   "execution_count": null,
   "id": "1d6d29a6",
   "metadata": {
    "scrolled": true
   },
   "outputs": [],
   "source": [
    "# Read about methods like clip, between "
   ]
  },
  {
   "cell_type": "code",
   "execution_count": 116,
   "id": "14acc90f",
   "metadata": {
    "ExecuteTime": {
     "end_time": "2024-04-30T17:44:46.878593Z",
     "start_time": "2024-04-30T17:44:46.867401Z"
    },
    "scrolled": true
   },
   "outputs": [
    {
     "data": {
      "text/plain": [
       "[1, 2, 3, 4, 5, 6, 7, 8, 9, 10, 1, 1, 2, 3, 4]"
      ]
     },
     "execution_count": 116,
     "metadata": {},
     "output_type": "execute_result"
    }
   ],
   "source": [
    "numbers.append(1)\n",
    "[numbers.append(i) for i in range(2,5)]\n",
    "numbers"
   ]
  },
  {
   "cell_type": "code",
   "execution_count": 118,
   "id": "0bf6080a",
   "metadata": {
    "ExecuteTime": {
     "end_time": "2024-04-30T17:45:25.843987Z",
     "start_time": "2024-04-30T17:45:25.831790Z"
    },
    "scrolled": true
   },
   "outputs": [
    {
     "data": {
      "text/plain": [
       "0      1\n",
       "1      2\n",
       "2      3\n",
       "3      4\n",
       "4      5\n",
       "5      6\n",
       "6      7\n",
       "7      8\n",
       "8      9\n",
       "9     10\n",
       "10     1\n",
       "11     1\n",
       "12     2\n",
       "13     3\n",
       "14     4\n",
       "dtype: int64"
      ]
     },
     "execution_count": 118,
     "metadata": {},
     "output_type": "execute_result"
    }
   ],
   "source": [
    "series=pd.Series(numbers)\n",
    "series"
   ]
  },
  {
   "cell_type": "code",
   "execution_count": 119,
   "id": "51c77cf8",
   "metadata": {
    "ExecuteTime": {
     "end_time": "2024-04-30T17:45:39.344999Z",
     "start_time": "2024-04-30T17:45:39.334001Z"
    },
    "scrolled": true
   },
   "outputs": [
    {
     "data": {
      "text/plain": [
       "0     1\n",
       "1     2\n",
       "2     3\n",
       "3     4\n",
       "4     5\n",
       "5     6\n",
       "6     7\n",
       "7     8\n",
       "8     9\n",
       "9    10\n",
       "dtype: int64"
      ]
     },
     "execution_count": 119,
     "metadata": {},
     "output_type": "execute_result"
    }
   ],
   "source": [
    "series.drop_duplicates(inplace=True)\n",
    "series"
   ]
  },
  {
   "cell_type": "code",
   "execution_count": 120,
   "id": "7f808557",
   "metadata": {
    "ExecuteTime": {
     "end_time": "2024-04-30T17:47:28.904234Z",
     "start_time": "2024-04-30T17:47:28.894128Z"
    },
    "scrolled": true
   },
   "outputs": [
    {
     "data": {
      "text/plain": [
       "0"
      ]
     },
     "execution_count": 120,
     "metadata": {},
     "output_type": "execute_result"
    }
   ],
   "source": [
    "series.duplicated().sum()"
   ]
  },
  {
   "cell_type": "code",
   "execution_count": 122,
   "id": "bd4cf0c3",
   "metadata": {
    "ExecuteTime": {
     "end_time": "2024-04-30T17:48:20.278816Z",
     "start_time": "2024-04-30T17:48:20.268788Z"
    },
    "scrolled": true
   },
   "outputs": [
    {
     "data": {
      "text/plain": [
       "934"
      ]
     },
     "execution_count": 122,
     "metadata": {},
     "output_type": "execute_result"
    }
   ],
   "source": [
    "bollywood_series.duplicated().sum() #934 movies have repeating actors"
   ]
  },
  {
   "cell_type": "code",
   "execution_count": 135,
   "id": "7b69c3ad",
   "metadata": {
    "ExecuteTime": {
     "end_time": "2024-04-30T17:53:26.115897Z",
     "start_time": "2024-04-30T17:53:26.102364Z"
    },
    "scrolled": true
   },
   "outputs": [
    {
     "data": {
      "text/plain": [
       "0      1.0\n",
       "1      2.0\n",
       "2      3.0\n",
       "3      4.0\n",
       "4      5.0\n",
       "5      6.0\n",
       "6      7.0\n",
       "7      8.0\n",
       "8      9.0\n",
       "9     10.0\n",
       "10     1.0\n",
       "11     1.0\n",
       "12     2.0\n",
       "13     3.0\n",
       "14     4.0\n",
       "15     NaN\n",
       "16     NaN\n",
       "17     NaN\n",
       "dtype: float64"
      ]
     },
     "execution_count": 135,
     "metadata": {},
     "output_type": "execute_result"
    }
   ],
   "source": [
    "numbers.append(np.nan)\n",
    "series=pd.Series(numbers)\n",
    "series"
   ]
  },
  {
   "cell_type": "code",
   "execution_count": 136,
   "id": "342e900f",
   "metadata": {
    "ExecuteTime": {
     "end_time": "2024-04-30T17:53:27.349026Z",
     "start_time": "2024-04-30T17:53:27.336255Z"
    },
    "scrolled": true
   },
   "outputs": [
    {
     "data": {
      "text/plain": [
       "0     False\n",
       "1     False\n",
       "2     False\n",
       "3     False\n",
       "4     False\n",
       "5     False\n",
       "6     False\n",
       "7     False\n",
       "8     False\n",
       "9     False\n",
       "10    False\n",
       "11    False\n",
       "12    False\n",
       "13    False\n",
       "14    False\n",
       "15     True\n",
       "16     True\n",
       "17     True\n",
       "dtype: bool"
      ]
     },
     "execution_count": 136,
     "metadata": {},
     "output_type": "execute_result"
    }
   ],
   "source": [
    "series.isna() #or isnull()"
   ]
  },
  {
   "cell_type": "code",
   "execution_count": 137,
   "id": "9a969a43",
   "metadata": {
    "ExecuteTime": {
     "end_time": "2024-04-30T17:53:28.604275Z",
     "start_time": "2024-04-30T17:53:28.589274Z"
    },
    "scrolled": true
   },
   "outputs": [
    {
     "data": {
      "text/plain": [
       "0       1.0\n",
       "1       2.0\n",
       "2       3.0\n",
       "3       4.0\n",
       "4       5.0\n",
       "5       6.0\n",
       "6       7.0\n",
       "7       8.0\n",
       "8       9.0\n",
       "9      10.0\n",
       "10      1.0\n",
       "11      1.0\n",
       "12      2.0\n",
       "13      3.0\n",
       "14      4.0\n",
       "15    100.0\n",
       "16    100.0\n",
       "17    100.0\n",
       "dtype: float64"
      ]
     },
     "execution_count": 137,
     "metadata": {},
     "output_type": "execute_result"
    }
   ],
   "source": [
    "series.fillna(100)"
   ]
  },
  {
   "cell_type": "code",
   "execution_count": 138,
   "id": "151ab148",
   "metadata": {
    "ExecuteTime": {
     "end_time": "2024-04-30T17:53:30.605263Z",
     "start_time": "2024-04-30T17:53:30.594746Z"
    },
    "scrolled": true
   },
   "outputs": [
    {
     "data": {
      "text/plain": [
       "9.86857142857143"
      ]
     },
     "execution_count": 138,
     "metadata": {},
     "output_type": "execute_result"
    }
   ],
   "source": [
    "series.mean()/series.median()*series.var() # var is for variance"
   ]
  },
  {
   "cell_type": "code",
   "execution_count": 139,
   "id": "eb86bc40",
   "metadata": {
    "ExecuteTime": {
     "end_time": "2024-04-30T17:53:31.606474Z",
     "start_time": "2024-04-30T17:53:31.594753Z"
    },
    "scrolled": true
   },
   "outputs": [
    {
     "data": {
      "text/plain": [
       "0     False\n",
       "1     False\n",
       "2     False\n",
       "3     False\n",
       "4      True\n",
       "5     False\n",
       "6     False\n",
       "7     False\n",
       "8     False\n",
       "9      True\n",
       "10    False\n",
       "11    False\n",
       "12    False\n",
       "13    False\n",
       "14    False\n",
       "15    False\n",
       "16    False\n",
       "17    False\n",
       "dtype: bool"
      ]
     },
     "execution_count": 139,
     "metadata": {},
     "output_type": "execute_result"
    }
   ],
   "source": [
    "series.isin([5,10,100])"
   ]
  },
  {
   "cell_type": "code",
   "execution_count": 140,
   "id": "e9c4e008",
   "metadata": {
    "ExecuteTime": {
     "end_time": "2024-04-30T17:53:33.649099Z",
     "start_time": "2024-04-30T17:53:33.631882Z"
    },
    "scrolled": true
   },
   "outputs": [
    {
     "data": {
      "text/plain": [
       "0     1.0\n",
       "1     2.0\n",
       "2     3.0\n",
       "3     4.0\n",
       "4     0.0\n",
       "5     0.0\n",
       "6     0.0\n",
       "7     0.0\n",
       "8     0.0\n",
       "9     0.0\n",
       "10    1.0\n",
       "11    1.0\n",
       "12    2.0\n",
       "13    3.0\n",
       "14    4.0\n",
       "15    NaN\n",
       "16    NaN\n",
       "17    NaN\n",
       "dtype: float64"
      ]
     },
     "execution_count": 140,
     "metadata": {},
     "output_type": "execute_result"
    }
   ],
   "source": [
    "def change_to_zero(x):\n",
    "    if x>=5:\n",
    "        return 0\n",
    "    else:\n",
    "        return x\n",
    "series.apply(change_to_zero) # we can apply our custom function to entire series object like this"
   ]
  }
 ],
 "metadata": {
  "kernelspec": {
   "display_name": "Python 3 (ipykernel)",
   "language": "python",
   "name": "python3"
  },
  "language_info": {
   "codemirror_mode": {
    "name": "ipython",
    "version": 3
   },
   "file_extension": ".py",
   "mimetype": "text/x-python",
   "name": "python",
   "nbconvert_exporter": "python",
   "pygments_lexer": "ipython3",
   "version": "3.11.5"
  },
  "toc": {
   "base_numbering": 1,
   "nav_menu": {},
   "number_sections": true,
   "sideBar": true,
   "skip_h1_title": false,
   "title_cell": "Table of Contents",
   "title_sidebar": "Contents",
   "toc_cell": false,
   "toc_position": {},
   "toc_section_display": true,
   "toc_window_display": false
  },
  "varInspector": {
   "cols": {
    "lenName": 16,
    "lenType": 16,
    "lenVar": 40
   },
   "kernels_config": {
    "python": {
     "delete_cmd_postfix": "",
     "delete_cmd_prefix": "del ",
     "library": "var_list.py",
     "varRefreshCmd": "print(var_dic_list())"
    },
    "r": {
     "delete_cmd_postfix": ") ",
     "delete_cmd_prefix": "rm(",
     "library": "var_list.r",
     "varRefreshCmd": "cat(var_dic_list()) "
    }
   },
   "types_to_exclude": [
    "module",
    "function",
    "builtin_function_or_method",
    "instance",
    "_Feature"
   ],
   "window_display": false
  }
 },
 "nbformat": 4,
 "nbformat_minor": 5
}
